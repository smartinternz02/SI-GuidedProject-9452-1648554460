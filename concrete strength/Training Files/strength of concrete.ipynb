{
 "cells": [
  {
   "cell_type": "markdown",
   "id": "81691b7a",
   "metadata": {},
   "source": [
    "# importing libraries"
   ]
  },
  {
   "cell_type": "code",
   "execution_count": 1,
   "id": "923b4033",
   "metadata": {},
   "outputs": [],
   "source": [
    "import numpy as np\n",
    "import pandas as pd\n",
    "import matplotlib.pyplot as plt\n",
    "import seaborn as sns\n",
    "import itertools"
   ]
  },
  {
   "cell_type": "markdown",
   "id": "1e5c5f62",
   "metadata": {},
   "source": [
    "# Importing Dataset"
   ]
  },
  {
   "cell_type": "code",
   "execution_count": 2,
   "id": "da5c46d9",
   "metadata": {},
   "outputs": [],
   "source": [
    "data= pd.read_csv(r'C:\\Users\\tirum\\OneDrive\\Desktop\\internship project\\concrete.csv')"
   ]
  },
  {
   "cell_type": "code",
   "execution_count": 3,
   "id": "077c0670",
   "metadata": {},
   "outputs": [
    {
     "data": {
      "text/html": [
       "<div>\n",
       "<style scoped>\n",
       "    .dataframe tbody tr th:only-of-type {\n",
       "        vertical-align: middle;\n",
       "    }\n",
       "\n",
       "    .dataframe tbody tr th {\n",
       "        vertical-align: top;\n",
       "    }\n",
       "\n",
       "    .dataframe thead th {\n",
       "        text-align: right;\n",
       "    }\n",
       "</style>\n",
       "<table border=\"1\" class=\"dataframe\">\n",
       "  <thead>\n",
       "    <tr style=\"text-align: right;\">\n",
       "      <th></th>\n",
       "      <th>Cement (component 1)(kg in a m^3 mixture)</th>\n",
       "      <th>Blast Furnace Slag (component 2)(kg in a m^3 mixture)</th>\n",
       "      <th>Fly Ash (component 3)(kg in a m^3 mixture)</th>\n",
       "      <th>Water  (component 4)(kg in a m^3 mixture)</th>\n",
       "      <th>Superplasticizer (component 5)(kg in a m^3 mixture)</th>\n",
       "      <th>Coarse Aggregate  (component 6)(kg in a m^3 mixture)</th>\n",
       "      <th>Fine Aggregate (component 7)(kg in a m^3 mixture)</th>\n",
       "      <th>Age (day)</th>\n",
       "      <th>Concrete compressive strength(MPa, megapascals)</th>\n",
       "    </tr>\n",
       "  </thead>\n",
       "  <tbody>\n",
       "    <tr>\n",
       "      <th>0</th>\n",
       "      <td>540.0</td>\n",
       "      <td>0.0</td>\n",
       "      <td>0.0</td>\n",
       "      <td>162.0</td>\n",
       "      <td>2.5</td>\n",
       "      <td>1040.0</td>\n",
       "      <td>676.0</td>\n",
       "      <td>28</td>\n",
       "      <td>79.99</td>\n",
       "    </tr>\n",
       "    <tr>\n",
       "      <th>1</th>\n",
       "      <td>540.0</td>\n",
       "      <td>0.0</td>\n",
       "      <td>0.0</td>\n",
       "      <td>162.0</td>\n",
       "      <td>2.5</td>\n",
       "      <td>1055.0</td>\n",
       "      <td>676.0</td>\n",
       "      <td>28</td>\n",
       "      <td>61.89</td>\n",
       "    </tr>\n",
       "    <tr>\n",
       "      <th>2</th>\n",
       "      <td>332.5</td>\n",
       "      <td>142.5</td>\n",
       "      <td>0.0</td>\n",
       "      <td>228.0</td>\n",
       "      <td>0.0</td>\n",
       "      <td>932.0</td>\n",
       "      <td>594.0</td>\n",
       "      <td>270</td>\n",
       "      <td>40.27</td>\n",
       "    </tr>\n",
       "    <tr>\n",
       "      <th>3</th>\n",
       "      <td>332.5</td>\n",
       "      <td>142.5</td>\n",
       "      <td>0.0</td>\n",
       "      <td>228.0</td>\n",
       "      <td>0.0</td>\n",
       "      <td>932.0</td>\n",
       "      <td>594.0</td>\n",
       "      <td>365</td>\n",
       "      <td>41.05</td>\n",
       "    </tr>\n",
       "    <tr>\n",
       "      <th>4</th>\n",
       "      <td>198.6</td>\n",
       "      <td>132.4</td>\n",
       "      <td>0.0</td>\n",
       "      <td>192.0</td>\n",
       "      <td>0.0</td>\n",
       "      <td>978.4</td>\n",
       "      <td>825.5</td>\n",
       "      <td>360</td>\n",
       "      <td>44.30</td>\n",
       "    </tr>\n",
       "    <tr>\n",
       "      <th>...</th>\n",
       "      <td>...</td>\n",
       "      <td>...</td>\n",
       "      <td>...</td>\n",
       "      <td>...</td>\n",
       "      <td>...</td>\n",
       "      <td>...</td>\n",
       "      <td>...</td>\n",
       "      <td>...</td>\n",
       "      <td>...</td>\n",
       "    </tr>\n",
       "    <tr>\n",
       "      <th>1025</th>\n",
       "      <td>276.4</td>\n",
       "      <td>116.0</td>\n",
       "      <td>90.3</td>\n",
       "      <td>179.6</td>\n",
       "      <td>8.9</td>\n",
       "      <td>870.1</td>\n",
       "      <td>768.3</td>\n",
       "      <td>28</td>\n",
       "      <td>44.28</td>\n",
       "    </tr>\n",
       "    <tr>\n",
       "      <th>1026</th>\n",
       "      <td>322.2</td>\n",
       "      <td>0.0</td>\n",
       "      <td>115.6</td>\n",
       "      <td>196.0</td>\n",
       "      <td>10.4</td>\n",
       "      <td>817.9</td>\n",
       "      <td>813.4</td>\n",
       "      <td>28</td>\n",
       "      <td>31.18</td>\n",
       "    </tr>\n",
       "    <tr>\n",
       "      <th>1027</th>\n",
       "      <td>148.5</td>\n",
       "      <td>139.4</td>\n",
       "      <td>108.6</td>\n",
       "      <td>192.7</td>\n",
       "      <td>6.1</td>\n",
       "      <td>892.4</td>\n",
       "      <td>780.0</td>\n",
       "      <td>28</td>\n",
       "      <td>23.70</td>\n",
       "    </tr>\n",
       "    <tr>\n",
       "      <th>1028</th>\n",
       "      <td>159.1</td>\n",
       "      <td>186.7</td>\n",
       "      <td>0.0</td>\n",
       "      <td>175.6</td>\n",
       "      <td>11.3</td>\n",
       "      <td>989.6</td>\n",
       "      <td>788.9</td>\n",
       "      <td>28</td>\n",
       "      <td>32.77</td>\n",
       "    </tr>\n",
       "    <tr>\n",
       "      <th>1029</th>\n",
       "      <td>260.9</td>\n",
       "      <td>100.5</td>\n",
       "      <td>78.3</td>\n",
       "      <td>200.6</td>\n",
       "      <td>8.6</td>\n",
       "      <td>864.5</td>\n",
       "      <td>761.5</td>\n",
       "      <td>28</td>\n",
       "      <td>32.40</td>\n",
       "    </tr>\n",
       "  </tbody>\n",
       "</table>\n",
       "<p>1030 rows × 9 columns</p>\n",
       "</div>"
      ],
      "text/plain": [
       "      Cement (component 1)(kg in a m^3 mixture)  \\\n",
       "0                                         540.0   \n",
       "1                                         540.0   \n",
       "2                                         332.5   \n",
       "3                                         332.5   \n",
       "4                                         198.6   \n",
       "...                                         ...   \n",
       "1025                                      276.4   \n",
       "1026                                      322.2   \n",
       "1027                                      148.5   \n",
       "1028                                      159.1   \n",
       "1029                                      260.9   \n",
       "\n",
       "      Blast Furnace Slag (component 2)(kg in a m^3 mixture)  \\\n",
       "0                                                   0.0       \n",
       "1                                                   0.0       \n",
       "2                                                 142.5       \n",
       "3                                                 142.5       \n",
       "4                                                 132.4       \n",
       "...                                                 ...       \n",
       "1025                                              116.0       \n",
       "1026                                                0.0       \n",
       "1027                                              139.4       \n",
       "1028                                              186.7       \n",
       "1029                                              100.5       \n",
       "\n",
       "      Fly Ash (component 3)(kg in a m^3 mixture)  \\\n",
       "0                                            0.0   \n",
       "1                                            0.0   \n",
       "2                                            0.0   \n",
       "3                                            0.0   \n",
       "4                                            0.0   \n",
       "...                                          ...   \n",
       "1025                                        90.3   \n",
       "1026                                       115.6   \n",
       "1027                                       108.6   \n",
       "1028                                         0.0   \n",
       "1029                                        78.3   \n",
       "\n",
       "      Water  (component 4)(kg in a m^3 mixture)  \\\n",
       "0                                         162.0   \n",
       "1                                         162.0   \n",
       "2                                         228.0   \n",
       "3                                         228.0   \n",
       "4                                         192.0   \n",
       "...                                         ...   \n",
       "1025                                      179.6   \n",
       "1026                                      196.0   \n",
       "1027                                      192.7   \n",
       "1028                                      175.6   \n",
       "1029                                      200.6   \n",
       "\n",
       "      Superplasticizer (component 5)(kg in a m^3 mixture)  \\\n",
       "0                                                   2.5     \n",
       "1                                                   2.5     \n",
       "2                                                   0.0     \n",
       "3                                                   0.0     \n",
       "4                                                   0.0     \n",
       "...                                                 ...     \n",
       "1025                                                8.9     \n",
       "1026                                               10.4     \n",
       "1027                                                6.1     \n",
       "1028                                               11.3     \n",
       "1029                                                8.6     \n",
       "\n",
       "      Coarse Aggregate  (component 6)(kg in a m^3 mixture)  \\\n",
       "0                                                1040.0      \n",
       "1                                                1055.0      \n",
       "2                                                 932.0      \n",
       "3                                                 932.0      \n",
       "4                                                 978.4      \n",
       "...                                                 ...      \n",
       "1025                                              870.1      \n",
       "1026                                              817.9      \n",
       "1027                                              892.4      \n",
       "1028                                              989.6      \n",
       "1029                                              864.5      \n",
       "\n",
       "      Fine Aggregate (component 7)(kg in a m^3 mixture)  Age (day)  \\\n",
       "0                                                 676.0         28   \n",
       "1                                                 676.0         28   \n",
       "2                                                 594.0        270   \n",
       "3                                                 594.0        365   \n",
       "4                                                 825.5        360   \n",
       "...                                                 ...        ...   \n",
       "1025                                              768.3         28   \n",
       "1026                                              813.4         28   \n",
       "1027                                              780.0         28   \n",
       "1028                                              788.9         28   \n",
       "1029                                              761.5         28   \n",
       "\n",
       "      Concrete compressive strength(MPa, megapascals)   \n",
       "0                                                79.99  \n",
       "1                                                61.89  \n",
       "2                                                40.27  \n",
       "3                                                41.05  \n",
       "4                                                44.30  \n",
       "...                                                ...  \n",
       "1025                                             44.28  \n",
       "1026                                             31.18  \n",
       "1027                                             23.70  \n",
       "1028                                             32.77  \n",
       "1029                                             32.40  \n",
       "\n",
       "[1030 rows x 9 columns]"
      ]
     },
     "execution_count": 3,
     "metadata": {},
     "output_type": "execute_result"
    }
   ],
   "source": [
    "data"
   ]
  },
  {
   "cell_type": "code",
   "execution_count": 4,
   "id": "44418905",
   "metadata": {},
   "outputs": [],
   "source": [
    "data = data.rename(columns={'Cement (component 1)(kg in a m^3 mixture)':'cement',\n",
    "                        'Blast Furnace Slag (component 2)(kg in a m^3 mixture)':'slag',\n",
    "                        'Fly Ash (component 3)(kg in a m^3 mixture)':'ash',\n",
    "                        'Water (component 4)(kg in a m^3 mixture)':'water',\n",
    "                        \"Superplasticizer (component 5)(kg in a m^3 mixture)\":'superplastic',\n",
    "                        'Coarse Aggregate (component 6)(kg in a m^3 mixture)':'coarseagg',\n",
    "                        'Fine Aggregate (component 7)(kg in a m^3 mixture)':'fineagg',\n",
    "                        'Age (day)':'age',\n",
    "                        'Concrete compressive strength(MPa, megapascals)':'strength'\n",
    "})"
   ]
  },
  {
   "cell_type": "code",
   "execution_count": 5,
   "id": "026f43be",
   "metadata": {},
   "outputs": [],
   "source": [
    "data.columns = ['cement', 'slag', 'ash', 'Water','superplastic','coarseagg','fineagg','age','strength']"
   ]
  },
  {
   "cell_type": "code",
   "execution_count": 6,
   "id": "a4b0e316",
   "metadata": {},
   "outputs": [
    {
     "data": {
      "text/html": [
       "<div>\n",
       "<style scoped>\n",
       "    .dataframe tbody tr th:only-of-type {\n",
       "        vertical-align: middle;\n",
       "    }\n",
       "\n",
       "    .dataframe tbody tr th {\n",
       "        vertical-align: top;\n",
       "    }\n",
       "\n",
       "    .dataframe thead th {\n",
       "        text-align: right;\n",
       "    }\n",
       "</style>\n",
       "<table border=\"1\" class=\"dataframe\">\n",
       "  <thead>\n",
       "    <tr style=\"text-align: right;\">\n",
       "      <th></th>\n",
       "      <th>cement</th>\n",
       "      <th>slag</th>\n",
       "      <th>ash</th>\n",
       "      <th>Water</th>\n",
       "      <th>superplastic</th>\n",
       "      <th>coarseagg</th>\n",
       "      <th>fineagg</th>\n",
       "      <th>age</th>\n",
       "      <th>strength</th>\n",
       "    </tr>\n",
       "  </thead>\n",
       "  <tbody>\n",
       "    <tr>\n",
       "      <th>0</th>\n",
       "      <td>540.0</td>\n",
       "      <td>0.0</td>\n",
       "      <td>0.0</td>\n",
       "      <td>162.0</td>\n",
       "      <td>2.5</td>\n",
       "      <td>1040.0</td>\n",
       "      <td>676.0</td>\n",
       "      <td>28</td>\n",
       "      <td>79.99</td>\n",
       "    </tr>\n",
       "    <tr>\n",
       "      <th>1</th>\n",
       "      <td>540.0</td>\n",
       "      <td>0.0</td>\n",
       "      <td>0.0</td>\n",
       "      <td>162.0</td>\n",
       "      <td>2.5</td>\n",
       "      <td>1055.0</td>\n",
       "      <td>676.0</td>\n",
       "      <td>28</td>\n",
       "      <td>61.89</td>\n",
       "    </tr>\n",
       "    <tr>\n",
       "      <th>2</th>\n",
       "      <td>332.5</td>\n",
       "      <td>142.5</td>\n",
       "      <td>0.0</td>\n",
       "      <td>228.0</td>\n",
       "      <td>0.0</td>\n",
       "      <td>932.0</td>\n",
       "      <td>594.0</td>\n",
       "      <td>270</td>\n",
       "      <td>40.27</td>\n",
       "    </tr>\n",
       "    <tr>\n",
       "      <th>3</th>\n",
       "      <td>332.5</td>\n",
       "      <td>142.5</td>\n",
       "      <td>0.0</td>\n",
       "      <td>228.0</td>\n",
       "      <td>0.0</td>\n",
       "      <td>932.0</td>\n",
       "      <td>594.0</td>\n",
       "      <td>365</td>\n",
       "      <td>41.05</td>\n",
       "    </tr>\n",
       "    <tr>\n",
       "      <th>4</th>\n",
       "      <td>198.6</td>\n",
       "      <td>132.4</td>\n",
       "      <td>0.0</td>\n",
       "      <td>192.0</td>\n",
       "      <td>0.0</td>\n",
       "      <td>978.4</td>\n",
       "      <td>825.5</td>\n",
       "      <td>360</td>\n",
       "      <td>44.30</td>\n",
       "    </tr>\n",
       "    <tr>\n",
       "      <th>...</th>\n",
       "      <td>...</td>\n",
       "      <td>...</td>\n",
       "      <td>...</td>\n",
       "      <td>...</td>\n",
       "      <td>...</td>\n",
       "      <td>...</td>\n",
       "      <td>...</td>\n",
       "      <td>...</td>\n",
       "      <td>...</td>\n",
       "    </tr>\n",
       "    <tr>\n",
       "      <th>1025</th>\n",
       "      <td>276.4</td>\n",
       "      <td>116.0</td>\n",
       "      <td>90.3</td>\n",
       "      <td>179.6</td>\n",
       "      <td>8.9</td>\n",
       "      <td>870.1</td>\n",
       "      <td>768.3</td>\n",
       "      <td>28</td>\n",
       "      <td>44.28</td>\n",
       "    </tr>\n",
       "    <tr>\n",
       "      <th>1026</th>\n",
       "      <td>322.2</td>\n",
       "      <td>0.0</td>\n",
       "      <td>115.6</td>\n",
       "      <td>196.0</td>\n",
       "      <td>10.4</td>\n",
       "      <td>817.9</td>\n",
       "      <td>813.4</td>\n",
       "      <td>28</td>\n",
       "      <td>31.18</td>\n",
       "    </tr>\n",
       "    <tr>\n",
       "      <th>1027</th>\n",
       "      <td>148.5</td>\n",
       "      <td>139.4</td>\n",
       "      <td>108.6</td>\n",
       "      <td>192.7</td>\n",
       "      <td>6.1</td>\n",
       "      <td>892.4</td>\n",
       "      <td>780.0</td>\n",
       "      <td>28</td>\n",
       "      <td>23.70</td>\n",
       "    </tr>\n",
       "    <tr>\n",
       "      <th>1028</th>\n",
       "      <td>159.1</td>\n",
       "      <td>186.7</td>\n",
       "      <td>0.0</td>\n",
       "      <td>175.6</td>\n",
       "      <td>11.3</td>\n",
       "      <td>989.6</td>\n",
       "      <td>788.9</td>\n",
       "      <td>28</td>\n",
       "      <td>32.77</td>\n",
       "    </tr>\n",
       "    <tr>\n",
       "      <th>1029</th>\n",
       "      <td>260.9</td>\n",
       "      <td>100.5</td>\n",
       "      <td>78.3</td>\n",
       "      <td>200.6</td>\n",
       "      <td>8.6</td>\n",
       "      <td>864.5</td>\n",
       "      <td>761.5</td>\n",
       "      <td>28</td>\n",
       "      <td>32.40</td>\n",
       "    </tr>\n",
       "  </tbody>\n",
       "</table>\n",
       "<p>1030 rows × 9 columns</p>\n",
       "</div>"
      ],
      "text/plain": [
       "      cement   slag    ash  Water  superplastic  coarseagg  fineagg  age  \\\n",
       "0      540.0    0.0    0.0  162.0           2.5     1040.0    676.0   28   \n",
       "1      540.0    0.0    0.0  162.0           2.5     1055.0    676.0   28   \n",
       "2      332.5  142.5    0.0  228.0           0.0      932.0    594.0  270   \n",
       "3      332.5  142.5    0.0  228.0           0.0      932.0    594.0  365   \n",
       "4      198.6  132.4    0.0  192.0           0.0      978.4    825.5  360   \n",
       "...      ...    ...    ...    ...           ...        ...      ...  ...   \n",
       "1025   276.4  116.0   90.3  179.6           8.9      870.1    768.3   28   \n",
       "1026   322.2    0.0  115.6  196.0          10.4      817.9    813.4   28   \n",
       "1027   148.5  139.4  108.6  192.7           6.1      892.4    780.0   28   \n",
       "1028   159.1  186.7    0.0  175.6          11.3      989.6    788.9   28   \n",
       "1029   260.9  100.5   78.3  200.6           8.6      864.5    761.5   28   \n",
       "\n",
       "      strength  \n",
       "0        79.99  \n",
       "1        61.89  \n",
       "2        40.27  \n",
       "3        41.05  \n",
       "4        44.30  \n",
       "...        ...  \n",
       "1025     44.28  \n",
       "1026     31.18  \n",
       "1027     23.70  \n",
       "1028     32.77  \n",
       "1029     32.40  \n",
       "\n",
       "[1030 rows x 9 columns]"
      ]
     },
     "execution_count": 6,
     "metadata": {},
     "output_type": "execute_result"
    }
   ],
   "source": [
    "data"
   ]
  },
  {
   "cell_type": "code",
   "execution_count": 7,
   "id": "37897e60",
   "metadata": {},
   "outputs": [
    {
     "data": {
      "text/plain": [
       "(1030, 9)"
      ]
     },
     "execution_count": 7,
     "metadata": {},
     "output_type": "execute_result"
    }
   ],
   "source": [
    "data.shape"
   ]
  },
  {
   "cell_type": "markdown",
   "id": "79dd5a5e",
   "metadata": {},
   "source": [
    "# Data cleaning"
   ]
  },
  {
   "cell_type": "code",
   "execution_count": 8,
   "id": "b44f3afc",
   "metadata": {},
   "outputs": [
    {
     "name": "stdout",
     "output_type": "stream",
     "text": [
      "<class 'pandas.core.frame.DataFrame'>\n",
      "RangeIndex: 1030 entries, 0 to 1029\n",
      "Data columns (total 9 columns):\n",
      " #   Column        Non-Null Count  Dtype  \n",
      "---  ------        --------------  -----  \n",
      " 0   cement        1030 non-null   float64\n",
      " 1   slag          1030 non-null   float64\n",
      " 2   ash           1030 non-null   float64\n",
      " 3   Water         1030 non-null   float64\n",
      " 4   superplastic  1030 non-null   float64\n",
      " 5   coarseagg     1030 non-null   float64\n",
      " 6   fineagg       1030 non-null   float64\n",
      " 7   age           1030 non-null   int64  \n",
      " 8   strength      1030 non-null   float64\n",
      "dtypes: float64(8), int64(1)\n",
      "memory usage: 72.5 KB\n"
     ]
    }
   ],
   "source": [
    "data.info()"
   ]
  },
  {
   "cell_type": "code",
   "execution_count": 9,
   "id": "6dfa6f99",
   "metadata": {},
   "outputs": [
    {
     "data": {
      "text/plain": [
       "cement          0\n",
       "slag            0\n",
       "ash             0\n",
       "Water           0\n",
       "superplastic    0\n",
       "coarseagg       0\n",
       "fineagg         0\n",
       "age             0\n",
       "strength        0\n",
       "dtype: int64"
      ]
     },
     "execution_count": 9,
     "metadata": {},
     "output_type": "execute_result"
    }
   ],
   "source": [
    "data.isnull().sum()"
   ]
  },
  {
   "cell_type": "markdown",
   "id": "01b2def3",
   "metadata": {},
   "source": [
    "No null values"
   ]
  },
  {
   "cell_type": "code",
   "execution_count": 10,
   "id": "acefb99b",
   "metadata": {},
   "outputs": [
    {
     "data": {
      "text/html": [
       "<div>\n",
       "<style scoped>\n",
       "    .dataframe tbody tr th:only-of-type {\n",
       "        vertical-align: middle;\n",
       "    }\n",
       "\n",
       "    .dataframe tbody tr th {\n",
       "        vertical-align: top;\n",
       "    }\n",
       "\n",
       "    .dataframe thead th {\n",
       "        text-align: right;\n",
       "    }\n",
       "</style>\n",
       "<table border=\"1\" class=\"dataframe\">\n",
       "  <thead>\n",
       "    <tr style=\"text-align: right;\">\n",
       "      <th></th>\n",
       "      <th>cement</th>\n",
       "      <th>slag</th>\n",
       "      <th>ash</th>\n",
       "      <th>Water</th>\n",
       "      <th>superplastic</th>\n",
       "      <th>coarseagg</th>\n",
       "      <th>fineagg</th>\n",
       "      <th>age</th>\n",
       "      <th>strength</th>\n",
       "    </tr>\n",
       "  </thead>\n",
       "  <tbody>\n",
       "    <tr>\n",
       "      <th>count</th>\n",
       "      <td>1030.000000</td>\n",
       "      <td>1030.000000</td>\n",
       "      <td>1030.000000</td>\n",
       "      <td>1030.000000</td>\n",
       "      <td>1030.000000</td>\n",
       "      <td>1030.000000</td>\n",
       "      <td>1030.000000</td>\n",
       "      <td>1030.000000</td>\n",
       "      <td>1030.000000</td>\n",
       "    </tr>\n",
       "    <tr>\n",
       "      <th>mean</th>\n",
       "      <td>281.167864</td>\n",
       "      <td>73.895825</td>\n",
       "      <td>54.188350</td>\n",
       "      <td>181.567282</td>\n",
       "      <td>6.204660</td>\n",
       "      <td>972.918932</td>\n",
       "      <td>773.580485</td>\n",
       "      <td>45.662136</td>\n",
       "      <td>35.817961</td>\n",
       "    </tr>\n",
       "    <tr>\n",
       "      <th>std</th>\n",
       "      <td>104.506364</td>\n",
       "      <td>86.279342</td>\n",
       "      <td>63.997004</td>\n",
       "      <td>21.354219</td>\n",
       "      <td>5.973841</td>\n",
       "      <td>77.753954</td>\n",
       "      <td>80.175980</td>\n",
       "      <td>63.169912</td>\n",
       "      <td>16.705742</td>\n",
       "    </tr>\n",
       "    <tr>\n",
       "      <th>min</th>\n",
       "      <td>102.000000</td>\n",
       "      <td>0.000000</td>\n",
       "      <td>0.000000</td>\n",
       "      <td>121.800000</td>\n",
       "      <td>0.000000</td>\n",
       "      <td>801.000000</td>\n",
       "      <td>594.000000</td>\n",
       "      <td>1.000000</td>\n",
       "      <td>2.330000</td>\n",
       "    </tr>\n",
       "    <tr>\n",
       "      <th>25%</th>\n",
       "      <td>192.375000</td>\n",
       "      <td>0.000000</td>\n",
       "      <td>0.000000</td>\n",
       "      <td>164.900000</td>\n",
       "      <td>0.000000</td>\n",
       "      <td>932.000000</td>\n",
       "      <td>730.950000</td>\n",
       "      <td>7.000000</td>\n",
       "      <td>23.710000</td>\n",
       "    </tr>\n",
       "    <tr>\n",
       "      <th>50%</th>\n",
       "      <td>272.900000</td>\n",
       "      <td>22.000000</td>\n",
       "      <td>0.000000</td>\n",
       "      <td>185.000000</td>\n",
       "      <td>6.400000</td>\n",
       "      <td>968.000000</td>\n",
       "      <td>779.500000</td>\n",
       "      <td>28.000000</td>\n",
       "      <td>34.445000</td>\n",
       "    </tr>\n",
       "    <tr>\n",
       "      <th>75%</th>\n",
       "      <td>350.000000</td>\n",
       "      <td>142.950000</td>\n",
       "      <td>118.300000</td>\n",
       "      <td>192.000000</td>\n",
       "      <td>10.200000</td>\n",
       "      <td>1029.400000</td>\n",
       "      <td>824.000000</td>\n",
       "      <td>56.000000</td>\n",
       "      <td>46.135000</td>\n",
       "    </tr>\n",
       "    <tr>\n",
       "      <th>max</th>\n",
       "      <td>540.000000</td>\n",
       "      <td>359.400000</td>\n",
       "      <td>200.100000</td>\n",
       "      <td>247.000000</td>\n",
       "      <td>32.200000</td>\n",
       "      <td>1145.000000</td>\n",
       "      <td>992.600000</td>\n",
       "      <td>365.000000</td>\n",
       "      <td>82.600000</td>\n",
       "    </tr>\n",
       "  </tbody>\n",
       "</table>\n",
       "</div>"
      ],
      "text/plain": [
       "            cement         slag          ash        Water  superplastic  \\\n",
       "count  1030.000000  1030.000000  1030.000000  1030.000000   1030.000000   \n",
       "mean    281.167864    73.895825    54.188350   181.567282      6.204660   \n",
       "std     104.506364    86.279342    63.997004    21.354219      5.973841   \n",
       "min     102.000000     0.000000     0.000000   121.800000      0.000000   \n",
       "25%     192.375000     0.000000     0.000000   164.900000      0.000000   \n",
       "50%     272.900000    22.000000     0.000000   185.000000      6.400000   \n",
       "75%     350.000000   142.950000   118.300000   192.000000     10.200000   \n",
       "max     540.000000   359.400000   200.100000   247.000000     32.200000   \n",
       "\n",
       "         coarseagg      fineagg          age     strength  \n",
       "count  1030.000000  1030.000000  1030.000000  1030.000000  \n",
       "mean    972.918932   773.580485    45.662136    35.817961  \n",
       "std      77.753954    80.175980    63.169912    16.705742  \n",
       "min     801.000000   594.000000     1.000000     2.330000  \n",
       "25%     932.000000   730.950000     7.000000    23.710000  \n",
       "50%     968.000000   779.500000    28.000000    34.445000  \n",
       "75%    1029.400000   824.000000    56.000000    46.135000  \n",
       "max    1145.000000   992.600000   365.000000    82.600000  "
      ]
     },
     "execution_count": 10,
     "metadata": {},
     "output_type": "execute_result"
    }
   ],
   "source": [
    "data.describe()"
   ]
  },
  {
   "cell_type": "markdown",
   "id": "520e0af1",
   "metadata": {},
   "source": [
    "# Quartiles"
   ]
  },
  {
   "cell_type": "markdown",
   "id": "abe3e954",
   "metadata": {},
   "source": [
    "# cement"
   ]
  },
  {
   "cell_type": "code",
   "execution_count": 11,
   "id": "9d31e8ba",
   "metadata": {},
   "outputs": [
    {
     "name": "stdout",
     "output_type": "stream",
     "text": [
      "1st Quartile (Q1) is: 192.375\n",
      "3rd Quartile (Q3) is: 350.0\n",
      "Interquartile range(IQR) is 157.625\n"
     ]
    }
   ],
   "source": [
    "from scipy import stats\n",
    "Q1=data['cement'].quantile(q=0.25)\n",
    "Q3=data['cement'].quantile(q=0.75)\n",
    "print('1st Quartile (Q1) is:',Q1)\n",
    "print('3rd Quartile (Q3) is:',Q3)\n",
    "print('Interquartile range(IQR) is',stats.iqr(data['cement']))"
   ]
  },
  {
   "cell_type": "code",
   "execution_count": 12,
   "id": "7613b38e",
   "metadata": {},
   "outputs": [
    {
     "name": "stdout",
     "output_type": "stream",
     "text": [
      "Lower outliers limit in cement: -44.0625\n",
      "Lower outliers limit in cement: 586.4375\n"
     ]
    }
   ],
   "source": [
    "L_outliers=Q1-1.5*(Q3-Q1)\n",
    "U_outliers=Q3+1.5*(Q3-Q1)\n",
    "print('Lower outliers limit in cement:',L_outliers)\n",
    "print('Lower outliers limit in cement:',U_outliers)"
   ]
  },
  {
   "cell_type": "code",
   "execution_count": 13,
   "id": "8ee206b4",
   "metadata": {},
   "outputs": [
    {
     "data": {
      "text/plain": [
       "<AxesSubplot:xlabel='cement'>"
      ]
     },
     "execution_count": 13,
     "metadata": {},
     "output_type": "execute_result"
    },
    {
     "data": {
      "image/png": "[encoded data removed]",
      "text/plain": [
       "<Figure size 432x288 with 1 Axes>"
      ]
     },
     "metadata": {
      "needs_background": "light"
     },
     "output_type": "display_data"
    }
   ],
   "source": [
    "sns.boxplot(x='cement',data=data,orient='h')"
   ]
  },
  {
   "cell_type": "markdown",
   "id": "abf8f3b6",
   "metadata": {},
   "source": [
    "# water"
   ]
  },
  {
   "cell_type": "code",
   "execution_count": 14,
   "id": "37043779",
   "metadata": {},
   "outputs": [
    {
     "name": "stdout",
     "output_type": "stream",
     "text": [
      "1st Quartile (Q1) is: 164.9\n",
      "3rd Quartile (Q3) is: 192.0\n",
      "Interquartile range(IQR) is 27.099999999999994\n"
     ]
    }
   ],
   "source": [
    "from scipy import stats\n",
    "WQ1=data['Water'].quantile(q=0.25)\n",
    "WQ3=data['Water'].quantile(q=0.75)\n",
    "print('1st Quartile (Q1) is:',WQ1)\n",
    "print('3rd Quartile (Q3) is:',WQ3)\n",
    "print('Interquartile range(IQR) is',stats.iqr(data['Water']))"
   ]
  },
  {
   "cell_type": "code",
   "execution_count": 15,
   "id": "554dd78b",
   "metadata": {},
   "outputs": [
    {
     "name": "stdout",
     "output_type": "stream",
     "text": [
      "Lower outliers limit in water: 124.25000000000001\n",
      "Lower outliers limit in water: 232.64999999999998\n"
     ]
    }
   ],
   "source": [
    "WL_outliers=WQ1-1.5*(WQ3-WQ1)\n",
    "WU_outliers=WQ3+1.5*(WQ3-WQ1)\n",
    "print('Lower outliers limit in water:',WL_outliers)\n",
    "print('Lower outliers limit in water:',WU_outliers)"
   ]
  },
  {
   "cell_type": "code",
   "execution_count": 16,
   "id": "31f1d798",
   "metadata": {},
   "outputs": [
    {
     "data": {
      "text/plain": [
       "<AxesSubplot:xlabel='Water'>"
      ]
     },
     "execution_count": 16,
     "metadata": {},
     "output_type": "execute_result"
    },
    {
     "data": {
      "image/png": "[encoded data removed]",
      "text/plain": [
       "<Figure size 432x288 with 1 Axes>"
      ]
     },
     "metadata": {
      "needs_background": "light"
     },
     "output_type": "display_data"
    }
   ],
   "source": [
    "sns.boxplot(x='Water',data=data,orient='h')"
   ]
  },
  {
   "cell_type": "code",
   "execution_count": 17,
   "id": "c95e1eeb",
   "metadata": {},
   "outputs": [
    {
     "data": {
      "text/plain": [
       "Text(0.5, 1.0, 'Water')"
      ]
     },
     "execution_count": 17,
     "metadata": {},
     "output_type": "execute_result"
    },
    {
     "data": {
      "image/png": "[encoded data removed]",
      "text/plain": [
       "<Figure size 720x576 with 1 Axes>"
      ]
     },
     "metadata": {
      "needs_background": "light"
     },
     "output_type": "display_data"
    }
   ],
   "source": [
    "plt.figure(figsize=(10,8))\n",
    "sns.histplot(data['Water']).set_title(\"Water\")"
   ]
  },
  {
   "cell_type": "markdown",
   "id": "0b5ff337",
   "metadata": {},
   "source": [
    "# slag"
   ]
  },
  {
   "cell_type": "code",
   "execution_count": 18,
   "id": "9bbf638b",
   "metadata": {},
   "outputs": [
    {
     "name": "stdout",
     "output_type": "stream",
     "text": [
      "1st Quartile (Q1) is: 0.0\n",
      "3rd Quartile (Q3) is: 142.95\n",
      "Interquartile range(IQR) is 142.95\n"
     ]
    }
   ],
   "source": [
    "Q1=data['slag'].quantile(q=0.25)\n",
    "Q3=data['slag'].quantile(q=0.75)\n",
    "print('1st Quartile (Q1) is:',Q1)\n",
    "print('3rd Quartile (Q3) is:',Q3)\n",
    "print('Interquartile range(IQR) is',stats.iqr(data['slag']))"
   ]
  },
  {
   "cell_type": "code",
   "execution_count": 19,
   "id": "9f0aeabe",
   "metadata": {},
   "outputs": [
    {
     "name": "stdout",
     "output_type": "stream",
     "text": [
      "Lower outliers limit in slag: -214.42499999999998\n",
      "Lower outliers limit in slag: 357.375\n"
     ]
    }
   ],
   "source": [
    "L_outliers=Q1-1.5*(Q3-Q1)\n",
    "U_outliers=Q3+1.5*(Q3-Q1)\n",
    "print('Lower outliers limit in slag:',L_outliers)\n",
    "print('Lower outliers limit in slag:',U_outliers)"
   ]
  },
  {
   "cell_type": "code",
   "execution_count": 20,
   "id": "6061573d",
   "metadata": {},
   "outputs": [
    {
     "data": {
      "text/plain": [
       "<AxesSubplot:xlabel='slag'>"
      ]
     },
     "execution_count": 20,
     "metadata": {},
     "output_type": "execute_result"
    },
    {
     "data": {
      "image/png": "[encoded data removed]",
      "text/plain": [
       "<Figure size 432x288 with 1 Axes>"
      ]
     },
     "metadata": {
      "needs_background": "light"
     },
     "output_type": "display_data"
    }
   ],
   "source": [
    "sns.boxplot(x='slag',data=data,orient='h')"
   ]
  },
  {
   "cell_type": "markdown",
   "id": "26c03f3a",
   "metadata": {},
   "source": [
    "# age"
   ]
  },
  {
   "cell_type": "code",
   "execution_count": 21,
   "id": "f6a01fda",
   "metadata": {},
   "outputs": [
    {
     "name": "stdout",
     "output_type": "stream",
     "text": [
      "1st Quartile (AQ1) is: 7.0\n",
      "3rd Quartile (AQ3) is: 56.0\n",
      "Interquartile range(IQR) is 49.0\n"
     ]
    }
   ],
   "source": [
    "AQ1=data['age'].quantile(q=0.25)\n",
    "AQ3=data['age'].quantile(q=0.75)\n",
    "print('1st Quartile (AQ1) is:',AQ1)\n",
    "print('3rd Quartile (AQ3) is:',AQ3)\n",
    "print('Interquartile range(IQR) is',stats.iqr(data['age']))"
   ]
  },
  {
   "cell_type": "code",
   "execution_count": 22,
   "id": "84173b6c",
   "metadata": {},
   "outputs": [
    {
     "name": "stdout",
     "output_type": "stream",
     "text": [
      "Lower outliers limit in age: -66.5\n",
      "Lower outliers limit in age: 129.5\n"
     ]
    }
   ],
   "source": [
    "AL_outliers=AQ1-1.5*(AQ3-AQ1)\n",
    "AU_outliers=AQ3+1.5*(AQ3-AQ1)\n",
    "print('Lower outliers limit in age:',AL_outliers)\n",
    "print('Lower outliers limit in age:',AU_outliers)"
   ]
  },
  {
   "cell_type": "code",
   "execution_count": 23,
   "id": "30989b12",
   "metadata": {},
   "outputs": [
    {
     "data": {
      "text/plain": [
       "<AxesSubplot:xlabel='age'>"
      ]
     },
     "execution_count": 23,
     "metadata": {},
     "output_type": "execute_result"
    },
    {
     "data": {
      "image/png": "[encoded data removed]",
      "text/plain": [
       "<Figure size 432x288 with 1 Axes>"
      ]
     },
     "metadata": {
      "needs_background": "light"
     },
     "output_type": "display_data"
    }
   ],
   "source": [
    "sns.boxplot(x='age',data=data,orient='h')"
   ]
  },
  {
   "cell_type": "markdown",
   "id": "7fe03d0b",
   "metadata": {},
   "source": [
    "# ash"
   ]
  },
  {
   "cell_type": "code",
   "execution_count": 24,
   "id": "cd5330cf",
   "metadata": {},
   "outputs": [
    {
     "name": "stdout",
     "output_type": "stream",
     "text": [
      "1st Quartile (Q1) is: 0.0\n",
      "3rd Quartile (Q3) is: 118.3\n",
      "Interquartile range(IQR) is 118.3\n"
     ]
    }
   ],
   "source": [
    "Q1=data['ash'].quantile(q=0.25)\n",
    "Q3=data['ash'].quantile(q=0.75)\n",
    "print('1st Quartile (Q1) is:',Q1)\n",
    "print('3rd Quartile (Q3) is:',Q3)\n",
    "print('Interquartile range(IQR) is',stats.iqr(data['ash']))"
   ]
  },
  {
   "cell_type": "code",
   "execution_count": 25,
   "id": "a9e312b2",
   "metadata": {},
   "outputs": [
    {
     "name": "stdout",
     "output_type": "stream",
     "text": [
      "Lower outliers limit in ash: -177.45\n",
      "Lower outliers limit in ash: 295.75\n"
     ]
    }
   ],
   "source": [
    "L_outliers=Q1-1.5*(Q3-Q1)\n",
    "U_outliers=Q3+1.5*(Q3-Q1)\n",
    "print('Lower outliers limit in ash:',L_outliers)\n",
    "print('Lower outliers limit in ash:',U_outliers)"
   ]
  },
  {
   "cell_type": "code",
   "execution_count": 26,
   "id": "cdb58536",
   "metadata": {},
   "outputs": [
    {
     "data": {
      "text/plain": [
       "<AxesSubplot:xlabel='ash'>"
      ]
     },
     "execution_count": 26,
     "metadata": {},
     "output_type": "execute_result"
    },
    {
     "data": {
      "image/png": "[encoded data removed]",
      "text/plain": [
       "<Figure size 432x288 with 1 Axes>"
      ]
     },
     "metadata": {
      "needs_background": "light"
     },
     "output_type": "display_data"
    }
   ],
   "source": [
    "sns.boxplot(x='ash',data=data,orient='h')"
   ]
  },
  {
   "cell_type": "code",
   "execution_count": 27,
   "id": "4a97409f",
   "metadata": {},
   "outputs": [
    {
     "data": {
      "text/plain": [
       "<AxesSubplot:xlabel='strength', ylabel='Count'>"
      ]
     },
     "execution_count": 27,
     "metadata": {},
     "output_type": "execute_result"
    },
    {
     "data": {
      "image/png": "[encoded data removed]",
      "text/plain": [
       "<Figure size 1152x1152 with 9 Axes>"
      ]
     },
     "metadata": {
      "needs_background": "light"
     },
     "output_type": "display_data"
    }
   ],
   "source": [
    "#distplot\n",
    "fig,ax2=plt.subplots(3,3,figsize=(16,16))\n",
    "sns.histplot(data['cement'],ax=ax2[0][0])\n",
    "sns.histplot(data['slag'],ax=ax2[0][1])\n",
    "sns.histplot(data['ash'],ax=ax2[0][2])\n",
    "sns.histplot(data['Water'],ax=ax2[1][0])\n",
    "sns.histplot(data['superplastic'],ax=ax2[1][1])\n",
    "sns.histplot(data['coarseagg'],ax=ax2[1][2])\n",
    "sns.histplot(data['fineagg'],ax=ax2[2][0])\n",
    "sns.histplot(data['age'],ax=ax2[2][1])\n",
    "sns.histplot(data['strength'],ax=ax2[2][2])"
   ]
  },
  {
   "cell_type": "markdown",
   "id": "4cc3a612",
   "metadata": {},
   "source": [
    "# Correlation between variables"
   ]
  },
  {
   "cell_type": "code",
   "execution_count": 28,
   "id": "aed407f1",
   "metadata": {},
   "outputs": [
    {
     "data": {
      "image/png": "[encoded data removed]",
      "text/plain": [
       "<Figure size 1440x720 with 2 Axes>"
      ]
     },
     "metadata": {
      "needs_background": "light"
     },
     "output_type": "display_data"
    }
   ],
   "source": [
    "plt.figure(figsize=(20,10))\n",
    "sns.heatmap(data.corr(),vmax=1,square=True,annot=True,cmap='viridis')\n",
    "plt.title('Correlation between different attributes')\n",
    "plt.show()"
   ]
  },
  {
   "cell_type": "code",
   "execution_count": 29,
   "id": "4088fea8",
   "metadata": {},
   "outputs": [
    {
     "data": {
      "text/plain": [
       "<AxesSubplot:>"
      ]
     },
     "execution_count": 29,
     "metadata": {},
     "output_type": "execute_result"
    },
    {
     "data": {
      "image/png": "[encoded data removed]",
      "text/plain": [
       "<Figure size 1080x576 with 1 Axes>"
      ]
     },
     "metadata": {
      "needs_background": "light"
     },
     "output_type": "display_data"
    }
   ],
   "source": [
    "data.boxplot(figsize=(15,8))"
   ]
  },
  {
   "cell_type": "markdown",
   "id": "acaff46a",
   "metadata": {},
   "source": [
    "# Replacing the qutliers by median"
   ]
  },
  {
   "cell_type": "code",
   "execution_count": 30,
   "id": "1c227a99",
   "metadata": {},
   "outputs": [],
   "source": [
    "for cols in data.columns[:-1]:\n",
    "    Q1=data[cols].quantile(0.25)\n",
    "    Q3=data[cols].quantile(0.75)\n",
    "    iqr=Q3-Q1\n",
    "    low=Q1-1.5*iqr\n",
    "    high=Q3+1.5*iqr\n",
    "    data.loc[(data[cols]<low)|(data[cols]>high),cols]=data[cols].median()"
   ]
  },
  {
   "cell_type": "code",
   "execution_count": 31,
   "id": "e741ca36",
   "metadata": {},
   "outputs": [
    {
     "data": {
      "text/plain": [
       "<AxesSubplot:>"
      ]
     },
     "execution_count": 31,
     "metadata": {},
     "output_type": "execute_result"
    },
    {
     "data": {
      "image/png": "[encoded data removed]",
      "text/plain": [
       "<Figure size 1080x576 with 1 Axes>"
      ]
     },
     "metadata": {
      "needs_background": "light"
     },
     "output_type": "display_data"
    }
   ],
   "source": [
    "data.boxplot(figsize=(15,8))"
   ]
  },
  {
   "cell_type": "markdown",
   "id": "b50985c0",
   "metadata": {},
   "source": [
    "Splitting the Data into independent and dependent attributes"
   ]
  },
  {
   "cell_type": "code",
   "execution_count": 32,
   "id": "a81e2d76",
   "metadata": {},
   "outputs": [],
   "source": [
    "X=data.drop('strength',axis=1)\n",
    "Y=data['strength']"
   ]
  },
  {
   "cell_type": "code",
   "execution_count": 33,
   "id": "21901492",
   "metadata": {},
   "outputs": [
    {
     "data": {
      "text/html": [
       "<div>\n",
       "<style scoped>\n",
       "    .dataframe tbody tr th:only-of-type {\n",
       "        vertical-align: middle;\n",
       "    }\n",
       "\n",
       "    .dataframe tbody tr th {\n",
       "        vertical-align: top;\n",
       "    }\n",
       "\n",
       "    .dataframe thead th {\n",
       "        text-align: right;\n",
       "    }\n",
       "</style>\n",
       "<table border=\"1\" class=\"dataframe\">\n",
       "  <thead>\n",
       "    <tr style=\"text-align: right;\">\n",
       "      <th></th>\n",
       "      <th>cement</th>\n",
       "      <th>slag</th>\n",
       "      <th>ash</th>\n",
       "      <th>Water</th>\n",
       "      <th>superplastic</th>\n",
       "      <th>coarseagg</th>\n",
       "      <th>fineagg</th>\n",
       "      <th>age</th>\n",
       "    </tr>\n",
       "  </thead>\n",
       "  <tbody>\n",
       "    <tr>\n",
       "      <th>0</th>\n",
       "      <td>540.0</td>\n",
       "      <td>0.0</td>\n",
       "      <td>0.0</td>\n",
       "      <td>162.0</td>\n",
       "      <td>2.5</td>\n",
       "      <td>1040.0</td>\n",
       "      <td>676.0</td>\n",
       "      <td>28</td>\n",
       "    </tr>\n",
       "    <tr>\n",
       "      <th>1</th>\n",
       "      <td>540.0</td>\n",
       "      <td>0.0</td>\n",
       "      <td>0.0</td>\n",
       "      <td>162.0</td>\n",
       "      <td>2.5</td>\n",
       "      <td>1055.0</td>\n",
       "      <td>676.0</td>\n",
       "      <td>28</td>\n",
       "    </tr>\n",
       "    <tr>\n",
       "      <th>2</th>\n",
       "      <td>332.5</td>\n",
       "      <td>142.5</td>\n",
       "      <td>0.0</td>\n",
       "      <td>228.0</td>\n",
       "      <td>0.0</td>\n",
       "      <td>932.0</td>\n",
       "      <td>594.0</td>\n",
       "      <td>28</td>\n",
       "    </tr>\n",
       "    <tr>\n",
       "      <th>3</th>\n",
       "      <td>332.5</td>\n",
       "      <td>142.5</td>\n",
       "      <td>0.0</td>\n",
       "      <td>228.0</td>\n",
       "      <td>0.0</td>\n",
       "      <td>932.0</td>\n",
       "      <td>594.0</td>\n",
       "      <td>28</td>\n",
       "    </tr>\n",
       "    <tr>\n",
       "      <th>4</th>\n",
       "      <td>198.6</td>\n",
       "      <td>132.4</td>\n",
       "      <td>0.0</td>\n",
       "      <td>192.0</td>\n",
       "      <td>0.0</td>\n",
       "      <td>978.4</td>\n",
       "      <td>825.5</td>\n",
       "      <td>28</td>\n",
       "    </tr>\n",
       "    <tr>\n",
       "      <th>...</th>\n",
       "      <td>...</td>\n",
       "      <td>...</td>\n",
       "      <td>...</td>\n",
       "      <td>...</td>\n",
       "      <td>...</td>\n",
       "      <td>...</td>\n",
       "      <td>...</td>\n",
       "      <td>...</td>\n",
       "    </tr>\n",
       "    <tr>\n",
       "      <th>1025</th>\n",
       "      <td>276.4</td>\n",
       "      <td>116.0</td>\n",
       "      <td>90.3</td>\n",
       "      <td>179.6</td>\n",
       "      <td>8.9</td>\n",
       "      <td>870.1</td>\n",
       "      <td>768.3</td>\n",
       "      <td>28</td>\n",
       "    </tr>\n",
       "    <tr>\n",
       "      <th>1026</th>\n",
       "      <td>322.2</td>\n",
       "      <td>0.0</td>\n",
       "      <td>115.6</td>\n",
       "      <td>196.0</td>\n",
       "      <td>10.4</td>\n",
       "      <td>817.9</td>\n",
       "      <td>813.4</td>\n",
       "      <td>28</td>\n",
       "    </tr>\n",
       "    <tr>\n",
       "      <th>1027</th>\n",
       "      <td>148.5</td>\n",
       "      <td>139.4</td>\n",
       "      <td>108.6</td>\n",
       "      <td>192.7</td>\n",
       "      <td>6.1</td>\n",
       "      <td>892.4</td>\n",
       "      <td>780.0</td>\n",
       "      <td>28</td>\n",
       "    </tr>\n",
       "    <tr>\n",
       "      <th>1028</th>\n",
       "      <td>159.1</td>\n",
       "      <td>186.7</td>\n",
       "      <td>0.0</td>\n",
       "      <td>175.6</td>\n",
       "      <td>11.3</td>\n",
       "      <td>989.6</td>\n",
       "      <td>788.9</td>\n",
       "      <td>28</td>\n",
       "    </tr>\n",
       "    <tr>\n",
       "      <th>1029</th>\n",
       "      <td>260.9</td>\n",
       "      <td>100.5</td>\n",
       "      <td>78.3</td>\n",
       "      <td>200.6</td>\n",
       "      <td>8.6</td>\n",
       "      <td>864.5</td>\n",
       "      <td>761.5</td>\n",
       "      <td>28</td>\n",
       "    </tr>\n",
       "  </tbody>\n",
       "</table>\n",
       "<p>1030 rows × 8 columns</p>\n",
       "</div>"
      ],
      "text/plain": [
       "      cement   slag    ash  Water  superplastic  coarseagg  fineagg  age\n",
       "0      540.0    0.0    0.0  162.0           2.5     1040.0    676.0   28\n",
       "1      540.0    0.0    0.0  162.0           2.5     1055.0    676.0   28\n",
       "2      332.5  142.5    0.0  228.0           0.0      932.0    594.0   28\n",
       "3      332.5  142.5    0.0  228.0           0.0      932.0    594.0   28\n",
       "4      198.6  132.4    0.0  192.0           0.0      978.4    825.5   28\n",
       "...      ...    ...    ...    ...           ...        ...      ...  ...\n",
       "1025   276.4  116.0   90.3  179.6           8.9      870.1    768.3   28\n",
       "1026   322.2    0.0  115.6  196.0          10.4      817.9    813.4   28\n",
       "1027   148.5  139.4  108.6  192.7           6.1      892.4    780.0   28\n",
       "1028   159.1  186.7    0.0  175.6          11.3      989.6    788.9   28\n",
       "1029   260.9  100.5   78.3  200.6           8.6      864.5    761.5   28\n",
       "\n",
       "[1030 rows x 8 columns]"
      ]
     },
     "execution_count": 33,
     "metadata": {},
     "output_type": "execute_result"
    }
   ],
   "source": [
    "X"
   ]
  },
  {
   "cell_type": "code",
   "execution_count": 34,
   "id": "46343544",
   "metadata": {},
   "outputs": [
    {
     "data": {
      "text/plain": [
       "0       79.99\n",
       "1       61.89\n",
       "2       40.27\n",
       "3       41.05\n",
       "4       44.30\n",
       "        ...  \n",
       "1025    44.28\n",
       "1026    31.18\n",
       "1027    23.70\n",
       "1028    32.77\n",
       "1029    32.40\n",
       "Name: strength, Length: 1030, dtype: float64"
      ]
     },
     "execution_count": 34,
     "metadata": {},
     "output_type": "execute_result"
    }
   ],
   "source": [
    "Y"
   ]
  },
  {
   "cell_type": "code",
   "execution_count": 35,
   "id": "a471c3ab",
   "metadata": {},
   "outputs": [],
   "source": [
    "from scipy.stats import zscore\n",
    "x=X.apply(zscore)\n",
    "x_data=pd.DataFrame(x,columns=data.columns)"
   ]
  },
  {
   "cell_type": "code",
   "execution_count": 36,
   "id": "ec1e38be",
   "metadata": {},
   "outputs": [
    {
     "data": {
      "text/html": [
       "<div>\n",
       "<style scoped>\n",
       "    .dataframe tbody tr th:only-of-type {\n",
       "        vertical-align: middle;\n",
       "    }\n",
       "\n",
       "    .dataframe tbody tr th {\n",
       "        vertical-align: top;\n",
       "    }\n",
       "\n",
       "    .dataframe thead th {\n",
       "        text-align: right;\n",
       "    }\n",
       "</style>\n",
       "<table border=\"1\" class=\"dataframe\">\n",
       "  <thead>\n",
       "    <tr style=\"text-align: right;\">\n",
       "      <th></th>\n",
       "      <th>cement</th>\n",
       "      <th>slag</th>\n",
       "      <th>ash</th>\n",
       "      <th>Water</th>\n",
       "      <th>superplastic</th>\n",
       "      <th>coarseagg</th>\n",
       "      <th>fineagg</th>\n",
       "      <th>age</th>\n",
       "      <th>strength</th>\n",
       "    </tr>\n",
       "  </thead>\n",
       "  <tbody>\n",
       "    <tr>\n",
       "      <th>0</th>\n",
       "      <td>2.477915</td>\n",
       "      <td>-0.858192</td>\n",
       "      <td>-0.847144</td>\n",
       "      <td>-0.954349</td>\n",
       "      <td>-0.634503</td>\n",
       "      <td>0.863154</td>\n",
       "      <td>-1.227306</td>\n",
       "      <td>-0.153159</td>\n",
       "      <td>NaN</td>\n",
       "    </tr>\n",
       "    <tr>\n",
       "      <th>1</th>\n",
       "      <td>2.477915</td>\n",
       "      <td>-0.858192</td>\n",
       "      <td>-0.847144</td>\n",
       "      <td>-0.954349</td>\n",
       "      <td>-0.634503</td>\n",
       "      <td>1.056164</td>\n",
       "      <td>-1.227306</td>\n",
       "      <td>-0.153159</td>\n",
       "      <td>NaN</td>\n",
       "    </tr>\n",
       "    <tr>\n",
       "      <th>2</th>\n",
       "      <td>0.491425</td>\n",
       "      <td>0.811541</td>\n",
       "      <td>-0.847144</td>\n",
       "      <td>2.250592</td>\n",
       "      <td>-1.091166</td>\n",
       "      <td>-0.526517</td>\n",
       "      <td>-2.269700</td>\n",
       "      <td>-0.153159</td>\n",
       "      <td>NaN</td>\n",
       "    </tr>\n",
       "    <tr>\n",
       "      <th>3</th>\n",
       "      <td>0.491425</td>\n",
       "      <td>0.811541</td>\n",
       "      <td>-0.847144</td>\n",
       "      <td>2.250592</td>\n",
       "      <td>-1.091166</td>\n",
       "      <td>-0.526517</td>\n",
       "      <td>-2.269700</td>\n",
       "      <td>-0.153159</td>\n",
       "      <td>NaN</td>\n",
       "    </tr>\n",
       "    <tr>\n",
       "      <th>4</th>\n",
       "      <td>-0.790459</td>\n",
       "      <td>0.693195</td>\n",
       "      <td>-0.847144</td>\n",
       "      <td>0.502442</td>\n",
       "      <td>-1.091166</td>\n",
       "      <td>0.070527</td>\n",
       "      <td>0.673158</td>\n",
       "      <td>-0.153159</td>\n",
       "      <td>NaN</td>\n",
       "    </tr>\n",
       "    <tr>\n",
       "      <th>...</th>\n",
       "      <td>...</td>\n",
       "      <td>...</td>\n",
       "      <td>...</td>\n",
       "      <td>...</td>\n",
       "      <td>...</td>\n",
       "      <td>...</td>\n",
       "      <td>...</td>\n",
       "      <td>...</td>\n",
       "      <td>...</td>\n",
       "    </tr>\n",
       "    <tr>\n",
       "      <th>1025</th>\n",
       "      <td>-0.045645</td>\n",
       "      <td>0.501029</td>\n",
       "      <td>0.564545</td>\n",
       "      <td>-0.099698</td>\n",
       "      <td>0.534552</td>\n",
       "      <td>-1.323005</td>\n",
       "      <td>-0.053976</td>\n",
       "      <td>-0.153159</td>\n",
       "      <td>NaN</td>\n",
       "    </tr>\n",
       "    <tr>\n",
       "      <th>1026</th>\n",
       "      <td>0.392819</td>\n",
       "      <td>-0.858192</td>\n",
       "      <td>0.960068</td>\n",
       "      <td>0.696681</td>\n",
       "      <td>0.808549</td>\n",
       "      <td>-1.994680</td>\n",
       "      <td>0.519341</td>\n",
       "      <td>-0.153159</td>\n",
       "      <td>NaN</td>\n",
       "    </tr>\n",
       "    <tr>\n",
       "      <th>1027</th>\n",
       "      <td>-1.270088</td>\n",
       "      <td>0.775217</td>\n",
       "      <td>0.850635</td>\n",
       "      <td>0.536434</td>\n",
       "      <td>0.023090</td>\n",
       "      <td>-1.036064</td>\n",
       "      <td>0.094756</td>\n",
       "      <td>-0.153159</td>\n",
       "      <td>NaN</td>\n",
       "    </tr>\n",
       "    <tr>\n",
       "      <th>1028</th>\n",
       "      <td>-1.168610</td>\n",
       "      <td>1.329451</td>\n",
       "      <td>-0.847144</td>\n",
       "      <td>-0.293937</td>\n",
       "      <td>0.972948</td>\n",
       "      <td>0.214641</td>\n",
       "      <td>0.207894</td>\n",
       "      <td>-0.153159</td>\n",
       "      <td>NaN</td>\n",
       "    </tr>\n",
       "    <tr>\n",
       "      <th>1029</th>\n",
       "      <td>-0.194033</td>\n",
       "      <td>0.319409</td>\n",
       "      <td>0.376945</td>\n",
       "      <td>0.920056</td>\n",
       "      <td>0.479752</td>\n",
       "      <td>-1.395062</td>\n",
       "      <td>-0.140418</td>\n",
       "      <td>-0.153159</td>\n",
       "      <td>NaN</td>\n",
       "    </tr>\n",
       "  </tbody>\n",
       "</table>\n",
       "<p>1030 rows × 9 columns</p>\n",
       "</div>"
      ],
      "text/plain": [
       "        cement      slag       ash     Water  superplastic  coarseagg  \\\n",
       "0     2.477915 -0.858192 -0.847144 -0.954349     -0.634503   0.863154   \n",
       "1     2.477915 -0.858192 -0.847144 -0.954349     -0.634503   1.056164   \n",
       "2     0.491425  0.811541 -0.847144  2.250592     -1.091166  -0.526517   \n",
       "3     0.491425  0.811541 -0.847144  2.250592     -1.091166  -0.526517   \n",
       "4    -0.790459  0.693195 -0.847144  0.502442     -1.091166   0.070527   \n",
       "...        ...       ...       ...       ...           ...        ...   \n",
       "1025 -0.045645  0.501029  0.564545 -0.099698      0.534552  -1.323005   \n",
       "1026  0.392819 -0.858192  0.960068  0.696681      0.808549  -1.994680   \n",
       "1027 -1.270088  0.775217  0.850635  0.536434      0.023090  -1.036064   \n",
       "1028 -1.168610  1.329451 -0.847144 -0.293937      0.972948   0.214641   \n",
       "1029 -0.194033  0.319409  0.376945  0.920056      0.479752  -1.395062   \n",
       "\n",
       "       fineagg       age  strength  \n",
       "0    -1.227306 -0.153159       NaN  \n",
       "1    -1.227306 -0.153159       NaN  \n",
       "2    -2.269700 -0.153159       NaN  \n",
       "3    -2.269700 -0.153159       NaN  \n",
       "4     0.673158 -0.153159       NaN  \n",
       "...        ...       ...       ...  \n",
       "1025 -0.053976 -0.153159       NaN  \n",
       "1026  0.519341 -0.153159       NaN  \n",
       "1027  0.094756 -0.153159       NaN  \n",
       "1028  0.207894 -0.153159       NaN  \n",
       "1029 -0.140418 -0.153159       NaN  \n",
       "\n",
       "[1030 rows x 9 columns]"
      ]
     },
     "execution_count": 36,
     "metadata": {},
     "output_type": "execute_result"
    }
   ],
   "source": [
    "x_data"
   ]
  },
  {
   "cell_type": "markdown",
   "id": "abd487ce",
   "metadata": {},
   "source": [
    "Splitting The Dataset Into Train Set And Test Set"
   ]
  },
  {
   "cell_type": "code",
   "execution_count": 37,
   "id": "f9c7e59d",
   "metadata": {},
   "outputs": [],
   "source": [
    "from sklearn.preprocessing import LabelEncoder, StandardScaler\n",
    "from sklearn.model_selection import train_test_split"
   ]
  },
  {
   "cell_type": "code",
   "execution_count": 38,
   "id": "e963e720",
   "metadata": {},
   "outputs": [],
   "source": [
    "X_train,X_test , Y_train , Y_test = train_test_split(x,Y,test_size=0.3,random_state=1)"
   ]
  },
  {
   "cell_type": "markdown",
   "id": "247179b7",
   "metadata": {},
   "source": [
    "# Model Building"
   ]
  },
  {
   "cell_type": "markdown",
   "id": "a0e24a6f",
   "metadata": {},
   "source": [
    "# Gradient Boosting Regressor"
   ]
  },
  {
   "cell_type": "markdown",
   "id": "c48afaca",
   "metadata": {},
   "source": [
    "Training the model"
   ]
  },
  {
   "cell_type": "code",
   "execution_count": 39,
   "id": "53f61981",
   "metadata": {},
   "outputs": [
    {
     "data": {
      "text/plain": [
       "GradientBoostingRegressor()"
      ]
     },
     "execution_count": 39,
     "metadata": {},
     "output_type": "execute_result"
    }
   ],
   "source": [
    "from sklearn.ensemble import GradientBoostingRegressor\n",
    "model=GradientBoostingRegressor()\n",
    "model.fit(X_train,Y_train)"
   ]
  },
  {
   "cell_type": "markdown",
   "id": "64be250c",
   "metadata": {},
   "source": [
    "Testing the Model"
   ]
  },
  {
   "cell_type": "code",
   "execution_count": 40,
   "id": "3efc233d",
   "metadata": {},
   "outputs": [
    {
     "name": "stdout",
     "output_type": "stream",
     "text": [
      "Prediction made by Gradient Boosting Model: [21.04477264 11.0540898  24.93802964 15.09706139 35.11364269 64.58199108\n",
      " 16.88267942 46.91376267 39.69978845 20.29262918 35.21289911 14.95686266\n",
      " 36.78184264 30.85601521  7.34770117 27.6408574  35.03051287 59.76391896\n",
      " 56.14803812 33.05149908 21.84076414 52.1361642  17.67671645 62.24226368\n",
      " 59.23600929 41.13211954 34.07364711 32.87163905 36.03840606 13.81397028\n",
      " 43.34066562 54.02772706 30.87924056 25.33567063 35.32248404 37.77816301\n",
      " 17.74127717 28.27629849 23.63996804 17.16484579 39.75273174 14.35494827\n",
      " 46.99056601 37.76444759 32.72559266 27.46629941 34.94034042 25.86784887\n",
      " 32.36979266 51.89009464 26.60811278 37.30573428 55.57383723 45.00487233\n",
      " 57.58443538  8.83975697 36.60960573 22.05773918 31.39855399 44.65348367\n",
      " 43.29209558 41.41563669 52.7534638  48.72456403 21.49147335 35.38823538\n",
      " 55.57383723 35.4237606  40.95674816 27.40721908 28.40697394 27.49882196\n",
      " 37.84880261 14.65242726 67.84325433 58.59648765 54.74159594 13.03154726\n",
      " 61.54544043 43.80804405 39.22848438 40.07314303 46.91376267 33.33759462\n",
      " 45.68062975 40.20553736 31.71568315 56.16588772 46.91376267 48.82635699\n",
      " 33.13387904 35.63036876 27.58401614 40.39589475 28.31809468 68.95542929\n",
      " 34.96428455 12.05941526 33.40220821 31.25369681 36.03840606 65.07565151\n",
      " 35.86242524 41.38739771 46.73819528 34.05706271 27.61683903 37.25916311\n",
      " 15.15557902 21.89476986 23.18641531 34.2157397   6.60658457 27.46629941\n",
      " 33.05820429 16.60792851 37.85599126 43.21416059 49.35623472 56.20550452\n",
      " 77.34178595 56.15123998 39.58323497 18.87126317 13.59255155 28.91190243\n",
      " 54.9642673  13.82053572 67.03194949 21.12930003 16.31886421 35.21820823\n",
      " 14.34129922 34.97724265 40.08812555 43.21416059 33.05820429 40.54359406\n",
      " 36.13912082 12.44615939 52.68072605 39.18332947 36.12108202 46.20399659\n",
      " 66.63454822 53.0540534  43.21416059 16.61433122 35.32248404 44.82234932\n",
      " 65.8551896  44.98222062 80.26806839 46.11467033 34.78050329 30.44523018\n",
      " 25.86784887 35.61043642 56.08028083 54.58337182 28.61830544 46.92120892\n",
      " 49.95329103 23.11189378 61.54544043 43.74752429 46.91731701 31.60472515\n",
      " 37.89756196 23.40460388 47.91750067 13.56252714 42.48695551 32.2830267\n",
      " 46.99056601 63.72321789 43.97925987 40.55313064 36.0787611  79.71722104\n",
      " 27.08142612 66.42384611 35.35752866 37.89484704 25.68848052 40.39589475\n",
      "  5.82828252 29.16488831 30.73904183 34.63339423 67.79960664 26.40903261\n",
      " 28.01233409 39.50053375 11.6025505  56.33360464 38.6825899  28.91190243\n",
      " 32.37381902 37.76444759 35.48800826 45.38713185  3.19811607 35.48800826\n",
      " 37.30573428 43.21416059 30.95228019 24.59206186 39.9207073  56.17550946\n",
      " 15.76755986 38.33524897 24.20352674 40.96055334 23.8217611  42.09373443\n",
      " 30.11648807 36.06447457 43.16746057 17.66332722 65.07565151 26.83774196\n",
      " 34.58819592 21.58607344 15.46437136 14.98017766 46.28222236 36.62759108\n",
      " 17.78354799 17.55391615 19.87139607 43.91558643 43.34066562 37.0123148\n",
      " 26.19529752 34.59114896 42.48695551 65.07565151 27.14477683 20.68062669\n",
      "  9.27466877 32.55894782 47.17168118 51.33888465 34.94276284 37.34746299\n",
      " 76.10830541 35.45740769 77.34178595 25.25855948 47.88293966 24.45714635\n",
      " 48.41463106 28.95860307 66.00803253  9.0139822  38.03977253 47.69241276\n",
      " 38.6825899  17.55391615 46.20218486 41.41563669 23.23292783 37.50974061\n",
      " 20.43046364 26.08864379 11.64695669 29.26475437 37.09549765 18.89400083\n",
      " 31.73225331 24.93802964 23.3549552  46.20399659 60.49268926 15.88932457\n",
      " 34.93807    35.24053688 46.28222236 21.56405577 65.07565151 20.59455017\n",
      " 19.50797601 16.3285439  46.92120892 36.53250475 28.91618936 18.0675662\n",
      " 66.88182038 45.5108094  47.17168118 31.6607874  31.60961417 14.04566308\n",
      " 45.6744576  32.58583597 44.00499913 26.36971168 35.31393752 40.15365066\n",
      " 13.99832461 25.13707421 46.14791857 42.39456752 42.06269946 45.04598815\n",
      " 40.72180117 45.00487233 41.70657856]\n"
     ]
    }
   ],
   "source": [
    "y_pred=model.predict(X_test)\n",
    "print(\"Prediction made by Gradient Boosting Model:\",y_pred)"
   ]
  },
  {
   "cell_type": "markdown",
   "id": "8c023a05",
   "metadata": {},
   "source": [
    "Model Evaluation"
   ]
  },
  {
   "cell_type": "code",
   "execution_count": 41,
   "id": "683213cf",
   "metadata": {},
   "outputs": [
    {
     "name": "stdout",
     "output_type": "stream",
     "text": [
      "score of Gradient Boosting Model: 0.880190281672208\n"
     ]
    }
   ],
   "source": [
    "score=model.score(X_test,Y_test)\n",
    "print(\"score of Gradient Boosting Model:\",score)"
   ]
  },
  {
   "cell_type": "code",
   "execution_count": 42,
   "id": "9eb5bb88",
   "metadata": {},
   "outputs": [
    {
     "name": "stdout",
     "output_type": "stream",
     "text": [
      "MAE: 4.213350520644146\n",
      "MSE: 31.402989685483906\n",
      "RMSE: 5.603837050225845\n"
     ]
    }
   ],
   "source": [
    "from sklearn import metrics\n",
    "print(\"MAE:\",metrics.mean_absolute_error(Y_test,y_pred))\n",
    "print(\"MSE:\",metrics.mean_squared_error(Y_test,y_pred))\n",
    "print(\"RMSE:\",np.sqrt(metrics.mean_squared_error(Y_test,y_pred)))"
   ]
  },
  {
   "cell_type": "markdown",
   "id": "9047f105",
   "metadata": {},
   "source": [
    "Saving the Model"
   ]
  },
  {
   "cell_type": "code",
   "execution_count": 44,
   "id": "145d80ed",
   "metadata": {},
   "outputs": [],
   "source": [
    "import pickle\n",
    "pickle.dump(model,open(\"cement1.pkl\",\"wb\"))"
   ]
  },
  {
   "cell_type": "code",
   "execution_count": 45,
   "id": "a0b18aad",
   "metadata": {},
   "outputs": [],
   "source": [
    "model=pickle.load(open(\"cement1.pkl\",\"rb\"))"
   ]
  },
  {
   "cell_type": "code",
   "execution_count": null,
   "id": "cc029fb2",
   "metadata": {},
   "outputs": [],
   "source": []
  }
 ],
 "metadata": {
  "kernelspec": {
   "display_name": "Python 3 (ipykernel)",
   "language": "python",
   "name": "python3"
  },
  "language_info": {
   "codemirror_mode": {
    "name": "ipython",
    "version": 3
   },
   "file_extension": ".py",
   "mimetype": "text/x-python",
   "name": "python",
   "nbconvert_exporter": "python",
   "pygments_lexer": "ipython3",
   "version": "3.9.7"
  }
 },
 "nbformat": 4,
 "nbformat_minor": 5
}
